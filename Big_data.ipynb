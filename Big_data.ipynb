{
  "nbformat": 4,
  "nbformat_minor": 0,
  "metadata": {
    "colab": {
      "name": "Big data.ipynb",
      "provenance": [],
      "toc_visible": true
    },
    "kernelspec": {
      "name": "python3",
      "display_name": "Python 3"
    },
    "language_info": {
      "name": "python"
    }
  },
  "cells": [
    {
      "cell_type": "code",
      "execution_count": 2,
      "metadata": {
        "colab": {
          "base_uri": "https://localhost:8080/"
        },
        "id": "CUuxmpb5qfqu",
        "outputId": "228669e8-fe8d-4b3e-bc28-3f9c56124325"
      },
      "outputs": [
        {
          "output_type": "stream",
          "name": "stdout",
          "text": [
            "Collecting pyspark\n",
            "  Downloading pyspark-3.2.1.tar.gz (281.4 MB)\n",
            "\u001b[K     |████████████████████████████████| 281.4 MB 35 kB/s \n",
            "\u001b[?25hCollecting py4j\n",
            "  Downloading py4j-0.10.9.3-py2.py3-none-any.whl (198 kB)\n",
            "\u001b[K     |████████████████████████████████| 198 kB 44.9 MB/s \n",
            "\u001b[?25hBuilding wheels for collected packages: pyspark\n",
            "  Building wheel for pyspark (setup.py) ... \u001b[?25l\u001b[?25hdone\n",
            "  Created wheel for pyspark: filename=pyspark-3.2.1-py2.py3-none-any.whl size=281853642 sha256=f3503a026c93ffef2f140d3ec32e0b4071f8285ee2a176115dae8338e03f85b7\n",
            "  Stored in directory: /root/.cache/pip/wheels/9f/f5/07/7cd8017084dce4e93e84e92efd1e1d5334db05f2e83bcef74f\n",
            "Successfully built pyspark\n",
            "Installing collected packages: py4j, pyspark\n",
            "Successfully installed py4j-0.10.9.3 pyspark-3.2.1\n"
          ]
        }
      ],
      "source": [
        "!pip install pyspark py4j\n"
      ]
    },
    {
      "cell_type": "code",
      "source": [
        "import pyspark"
      ],
      "metadata": {
        "id": "uS_ii0Zti4zP"
      },
      "execution_count": 3,
      "outputs": []
    },
    {
      "cell_type": "code",
      "source": [
        "from pyspark.sql import SparkSession\n",
        "spark = SparkSession.builder.appName('homework1').getOrCreate()\n",
        "ssc=spark.sparkContext"
      ],
      "metadata": {
        "id": "1fH9FeByx8Su"
      },
      "execution_count": 4,
      "outputs": []
    },
    {
      "cell_type": "code",
      "source": [
        "x=['pizza','potato','frenchfries','hotdog','hamburger','egg','mashpotato','ghormesabzi',\n",
        "   'loobiapolo','omlet','spagetty','pasta','kookoosabzi','chicken','kabab','soup','ash reshte','zereshkpolo'\n",
        "   ,'kookoosibzamini', 'salad','noonpanir','khoreshte karafs','kashk bademjoon','salad olvie','kotlet','lazania','fish',\n",
        "   'shrimp','kalampolo','khoreshte bamie','havijpolo']\n",
        "rdd=ssc.parallelize(x)\n",
        "rdd.collect()"
      ],
      "metadata": {
        "colab": {
          "base_uri": "https://localhost:8080/"
        },
        "id": "UF_mt85LOzzu",
        "outputId": "7719fff5-704c-4368-b01d-a3c410a2540d"
      },
      "execution_count": 5,
      "outputs": [
        {
          "output_type": "execute_result",
          "data": {
            "text/plain": [
              "['pizza',\n",
              " 'potato',\n",
              " 'frenchfries',\n",
              " 'hotdog',\n",
              " 'hamburger',\n",
              " 'egg',\n",
              " 'mashpotato',\n",
              " 'ghormesabzi',\n",
              " 'loobiapolo',\n",
              " 'omlet',\n",
              " 'spagetty',\n",
              " 'pasta',\n",
              " 'kookoosabzi',\n",
              " 'chicken',\n",
              " 'kabab',\n",
              " 'soup',\n",
              " 'ash reshte',\n",
              " 'zereshkpolo',\n",
              " 'kookoosibzamini',\n",
              " 'salad',\n",
              " 'noonpanir',\n",
              " 'khoreshte karafs',\n",
              " 'kashk bademjoon',\n",
              " 'salad olvie',\n",
              " 'kotlet',\n",
              " 'lazania',\n",
              " 'fish',\n",
              " 'shrimp',\n",
              " 'kalampolo',\n",
              " 'khoreshte bamie',\n",
              " 'havijpolo']"
            ]
          },
          "metadata": {},
          "execution_count": 5
        }
      ]
    },
    {
      "cell_type": "code",
      "source": [
        "rdd2=rdd.filter(lambda x:(x))\n",
        "rdd2.collect()[19]"
      ],
      "metadata": {
        "colab": {
          "base_uri": "https://localhost:8080/",
          "height": 35
        },
        "id": "9dUMPNvEmDFY",
        "outputId": "a3db03f7-6eb7-4401-ed74-3d273f11c135"
      },
      "execution_count": 20,
      "outputs": [
        {
          "output_type": "execute_result",
          "data": {
            "application/vnd.google.colaboratory.intrinsic+json": {
              "type": "string"
            },
            "text/plain": [
              "'salad'"
            ]
          },
          "metadata": {},
          "execution_count": 20
        }
      ]
    },
    {
      "cell_type": "code",
      "source": [
        "from pyspark.sql.functions import upper\n",
        "rdd3=rdd.map(lambda x:x.upper())\n",
        "rdd3.collect()"
      ],
      "metadata": {
        "colab": {
          "base_uri": "https://localhost:8080/"
        },
        "id": "EAH4VsocmCwt",
        "outputId": "180f54b9-7487-42af-e9a6-41aca11894cb"
      },
      "execution_count": 9,
      "outputs": [
        {
          "output_type": "execute_result",
          "data": {
            "text/plain": [
              "['PIZZA',\n",
              " 'POTATO',\n",
              " 'FRENCHFRIES',\n",
              " 'HOTDOG',\n",
              " 'HAMBURGER',\n",
              " 'EGG',\n",
              " 'MASHPOTATO',\n",
              " 'GHORMESABZI',\n",
              " 'LOOBIAPOLO',\n",
              " 'OMLET',\n",
              " 'SPAGETTY',\n",
              " 'PASTA',\n",
              " 'KOOKOOSABZI',\n",
              " 'CHICKEN',\n",
              " 'KABAB',\n",
              " 'SOUP',\n",
              " 'ASH RESHTE',\n",
              " 'ZERESHKPOLO',\n",
              " 'KOOKOOSIBZAMINI',\n",
              " 'SALAD',\n",
              " 'NOONPANIR',\n",
              " 'KHORESHTE KARAFS',\n",
              " 'KASHK BADEMJOON',\n",
              " 'SALAD OLVIE',\n",
              " 'KOTLET',\n",
              " 'LAZANIA',\n",
              " 'FISH',\n",
              " 'SHRIMP',\n",
              " 'KALAMPOLO',\n",
              " 'KHORESHTE BAMIE',\n",
              " 'HAVIJPOLO']"
            ]
          },
          "metadata": {},
          "execution_count": 9
        }
      ]
    },
    {
      "cell_type": "code",
      "source": [
        "rdd4= rdd.groupBy(lambda x: x[0]).map(lambda x: ([0],list(x[1])))\n",
        "rdd4.collect()"
      ],
      "metadata": {
        "colab": {
          "base_uri": "https://localhost:8080/"
        },
        "id": "UY5RNE7RAe8V",
        "outputId": "0200ffe1-bb54-4344-e30a-a94d503b3c82"
      },
      "execution_count": 10,
      "outputs": [
        {
          "output_type": "execute_result",
          "data": {
            "text/plain": [
              "[([0], ['pizza', 'potato', 'pasta']),\n",
              " ([0], ['hotdog', 'hamburger', 'havijpolo']),\n",
              " ([0], ['ghormesabzi']),\n",
              " ([0], ['loobiapolo', 'lazania']),\n",
              " ([0], ['spagetty', 'soup', 'salad', 'salad olvie', 'shrimp']),\n",
              " ([0], ['chicken']),\n",
              " ([0], ['frenchfries', 'fish']),\n",
              " ([0], ['egg']),\n",
              " ([0], ['mashpotato']),\n",
              " ([0], ['omlet']),\n",
              " ([0],\n",
              "  ['kookoosabzi',\n",
              "   'kabab',\n",
              "   'kookoosibzamini',\n",
              "   'khoreshte karafs',\n",
              "   'kashk bademjoon',\n",
              "   'kotlet',\n",
              "   'kalampolo',\n",
              "   'khoreshte bamie']),\n",
              " ([0], ['ash reshte']),\n",
              " ([0], ['zereshkpolo']),\n",
              " ([0], ['noonpanir'])]"
            ]
          },
          "metadata": {},
          "execution_count": 10
        }
      ]
    },
    {
      "cell_type": "code",
      "source": [
        "from google.colab import drive \n",
        "drive.mount('/content/drive')"
      ],
      "metadata": {
        "colab": {
          "base_uri": "https://localhost:8080/"
        },
        "id": "0elL4Je8j9lp",
        "outputId": "fd6f2aa7-6ffb-4c24-f60d-3251db68eee6"
      },
      "execution_count": 21,
      "outputs": [
        {
          "output_type": "stream",
          "name": "stdout",
          "text": [
            "Mounted at /content/drive\n"
          ]
        }
      ]
    },
    {
      "cell_type": "code",
      "source": [
        "import string\n",
        "\n",
        "filematni= open('/content/drive/My Drive/text1.txt',\"r\",encoding='utf-8-sig').read()\n",
        "newtext= filematni.translate(str.maketrans('','',string.punctuation))\n",
        "tokens=newtext.split()\n",
        "text_rdd= spark.sparkContext.parallelize(tokens)\n",
        "counter=text_rdd.map(lambda word:(word,1)).reduceByKey(lambda a,b: a+b).sortBy(lambda x: -x[1]).collect()\n",
        "counter"
      ],
      "metadata": {
        "colab": {
          "base_uri": "https://localhost:8080/"
        },
        "id": "Xkq8M9h2BKRZ",
        "outputId": "169ce418-a733-459b-caf6-ac9b44f2b99f"
      },
      "execution_count": 22,
      "outputs": [
        {
          "output_type": "execute_result",
          "data": {
            "text/plain": [
              "[('in', 3),\n",
              " ('the', 3),\n",
              " ('background', 3),\n",
              " ('systems', 2),\n",
              " ('image', 2),\n",
              " ('is', 2),\n",
              " ('to', 2),\n",
              " ('data', 2),\n",
              " ('urban', 2),\n",
              " ('surveillance', 2),\n",
              " ('automatic', 2),\n",
              " ('subtraction', 2),\n",
              " ('Abstract', 1),\n",
              " ('Due', 1),\n",
              " ('of', 1),\n",
              " ('generated', 1),\n",
              " ('oriented', 1),\n",
              " ('techniques', 1),\n",
              " ('are', 1),\n",
              " ('demand', 1),\n",
              " ('this', 1),\n",
              " ('we', 1),\n",
              " ('novel', 1),\n",
              " ('algorithm', 1),\n",
              " ('renew', 1),\n",
              " ('an', 1),\n",
              " ('as', 1),\n",
              " ('new', 1),\n",
              " ('when', 1),\n",
              " ('no', 1),\n",
              " ('detected', 1),\n",
              " ('both', 1),\n",
              " ('simple', 1),\n",
              " ('robust', 1),\n",
              " ('conditions', 1),\n",
              " ('tremendous', 1),\n",
              " ('volume', 1),\n",
              " ('by', 1),\n",
              " ('big', 1),\n",
              " ('lowcomplexity', 1),\n",
              " ('great', 1),\n",
              " ('In', 1),\n",
              " ('paper', 1),\n",
              " ('propose', 1),\n",
              " ('a', 1),\n",
              " ('for', 1),\n",
              " ('which', 1),\n",
              " ('computer', 1),\n",
              " ('can', 1),\n",
              " ('automatically', 1),\n",
              " ('object', 1),\n",
              " ('This', 1),\n",
              " ('method', 1),\n",
              " ('and', 1),\n",
              " ('with', 1),\n",
              " ('respect', 1),\n",
              " ('changes', 1),\n",
              " ('light', 1)]"
            ]
          },
          "metadata": {},
          "execution_count": 22
        }
      ]
    },
    {
      "cell_type": "code",
      "source": [
        ""
      ],
      "metadata": {
        "id": "xsgf63m6BKOU"
      },
      "execution_count": null,
      "outputs": []
    }
  ]
}